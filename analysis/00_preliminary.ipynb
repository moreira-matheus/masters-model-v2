{
 "cells": [
  {
   "cell_type": "code",
   "execution_count": 1,
   "metadata": {},
   "outputs": [],
   "source": [
    "import pickle\n",
    "import numpy as np\n",
    "from fastdtw import fastdtw\n",
    "import matplotlib.pyplot as plt\n",
    "from scipy.stats import t, ttest_ind\n",
    "%matplotlib inline"
   ]
  },
  {
   "cell_type": "code",
   "execution_count": 2,
   "metadata": {},
   "outputs": [],
   "source": [
    "plt.style.use('seaborn-whitegrid')"
   ]
  },
  {
   "cell_type": "code",
   "execution_count": 3,
   "metadata": {},
   "outputs": [],
   "source": [
    "def welch_satterthwaite(sample1, sample2):\n",
    "    n1, n2 = len(sample1), len(sample2)\n",
    "    s1, s2 = np.std(sample1, ddof=1), np.std(sample2, ddof=1)\n",
    "\n",
    "    num = ((s1**2)/n1 + (s2**2)/n2)**2\n",
    "    den = (s1**4)/(n1**3 - n1**2) + (s2**4)/(n2**3 - n2**2)\n",
    "    return num/den"
   ]
  },
  {
   "cell_type": "code",
   "execution_count": 4,
   "metadata": {},
   "outputs": [],
   "source": [
    "results_file = '../results/preliminary_results.pkl'\n",
    "gini_file = './gini_1976_2014.csv'"
   ]
  },
  {
   "cell_type": "code",
   "execution_count": 5,
   "metadata": {},
   "outputs": [],
   "source": [
    "actual_gini = np.genfromtxt(gini_file,delimiter=',', usecols=range(3,37), skip_header=2)"
   ]
  },
  {
   "cell_type": "code",
   "execution_count": 6,
   "metadata": {},
   "outputs": [],
   "source": [
    "with open(results_file, 'rb') as file:\n",
    "    results = pickle.load(file)"
   ]
  },
  {
   "cell_type": "code",
   "execution_count": 7,
   "metadata": {},
   "outputs": [],
   "source": [
    "# LO_SRC, LO_TGT = min(results.keys()), 1.0\n",
    "# HI_SRC, HI_TGT = max(results.keys()), 0.2\n",
    "# bias2alpha = lambda b: LO_TGT + (b - LO_SRC)*(HI_TGT - LO_TGT)/(HI_SRC - LO_SRC)"
   ]
  },
  {
   "cell_type": "code",
   "execution_count": 8,
   "metadata": {},
   "outputs": [],
   "source": [
    "# fig, ax = plt.subplots(figsize=(12,8))\n",
    "\n",
    "# for bias, ginis in results.items():\n",
    "#     ax.plot(ginis.index, ginis, label=f'Bias = {bias:.2f}', color='k', alpha=bias2alpha(bias))\n",
    "\n",
    "# ax.set_ylim([0.0, 1.0])\n",
    "# ax.tick_params(labelsize=18)\n",
    "# ax.legend(ncol=2)\n",
    "# plt.show()"
   ]
  },
  {
   "cell_type": "code",
   "execution_count": 9,
   "metadata": {
    "scrolled": false
   },
   "outputs": [
    {
     "name": "stdout",
     "output_type": "stream",
     "text": [
      "\n",
      "BIAS: -1.00\n",
      "\n",
      "\tDegrees of freedom: 52.69\n",
      "\n",
      "\tTest statistic: 6.40\n",
      "\n",
      "\tCritical value: 2.67\n",
      "\n",
      "\tP-value.......: 4.28e-08\n",
      "\n",
      "\tResult........: H0 REJECTED.\n",
      "\n",
      "BIAS: -0.80\n",
      "\n",
      "\tDegrees of freedom: 53.66\n",
      "\n",
      "\tTest statistic: 4.74\n",
      "\n",
      "\tCritical value: 2.67\n",
      "\n",
      "\tP-value.......: 1.63e-05\n",
      "\n",
      "\tResult........: H0 REJECTED.\n",
      "\n",
      "BIAS: -0.60\n",
      "\n",
      "\tDegrees of freedom: 51.81\n",
      "\n",
      "\tTest statistic: 2.80\n",
      "\n",
      "\tCritical value: 2.67\n",
      "\n",
      "\tP-value.......: 7.22e-03\n",
      "\n",
      "\tResult........: Failed to reject H0.\n",
      "\n",
      "BIAS: -0.40\n",
      "\n",
      "\tDegrees of freedom: 55.35\n",
      "\n",
      "\tTest statistic: 2.12\n",
      "\n",
      "\tCritical value: 2.67\n",
      "\n",
      "\tP-value.......: 3.81e-02\n",
      "\n",
      "\tResult........: Failed to reject H0.\n",
      "\n",
      "BIAS: -0.20\n",
      "\n",
      "\tDegrees of freedom: 58.84\n",
      "\n",
      "\tTest statistic: 1.21\n",
      "\n",
      "\tCritical value: 2.66\n",
      "\n",
      "\tP-value.......: 2.33e-01\n",
      "\n",
      "\tResult........: Failed to reject H0.\n",
      "\n",
      "BIAS: 0.00\n",
      "\n",
      "\tDegrees of freedom: 56.43\n",
      "\n",
      "\tTest statistic: -0.79\n",
      "\n",
      "\tCritical value: 2.67\n",
      "\n",
      "\tP-value.......: 4.35e-01\n",
      "\n",
      "\tResult........: Failed to reject H0.\n",
      "\n",
      "BIAS: 0.20\n",
      "\n",
      "\tDegrees of freedom: 59.93\n",
      "\n",
      "\tTest statistic: -1.64\n",
      "\n",
      "\tCritical value: 2.66\n",
      "\n",
      "\tP-value.......: 1.06e-01\n",
      "\n",
      "\tResult........: Failed to reject H0.\n",
      "\n",
      "BIAS: 0.40\n",
      "\n",
      "\tDegrees of freedom: 60.45\n",
      "\n",
      "\tTest statistic: -3.30\n",
      "\n",
      "\tCritical value: 2.66\n",
      "\n",
      "\tP-value.......: 1.65e-03\n",
      "\n",
      "\tResult........: H0 REJECTED.\n",
      "\n",
      "BIAS: 0.60\n",
      "\n",
      "\tDegrees of freedom: 64.85\n",
      "\n",
      "\tTest statistic: -3.42\n",
      "\n",
      "\tCritical value: 2.65\n",
      "\n",
      "\tP-value.......: 1.07e-03\n",
      "\n",
      "\tResult........: H0 REJECTED.\n",
      "\n",
      "BIAS: 0.80\n",
      "\n",
      "\tDegrees of freedom: 67.75\n",
      "\n",
      "\tTest statistic: -4.95\n",
      "\n",
      "\tCritical value: 2.65\n",
      "\n",
      "\tP-value.......: 5.28e-06\n",
      "\n",
      "\tResult........: H0 REJECTED.\n",
      "\n",
      "BIAS: 1.00\n",
      "\n",
      "\tDegrees of freedom: 69.41\n",
      "\n",
      "\tTest statistic: -6.03\n",
      "\n",
      "\tCritical value: 2.65\n",
      "\n",
      "\tP-value.......: 7.15e-08\n",
      "\n",
      "\tResult........: H0 REJECTED.\n"
     ]
    }
   ],
   "source": [
    "alpha = 0.01\n",
    "rejection = {}\n",
    "\n",
    "for bias, gini in results.items():\n",
    "    df = welch_satterthwaite(actual_gini, gini)\n",
    "    t_crit = t.ppf(1-(alpha/2), df)\n",
    "    t_test, pval = ttest_ind(actual_gini, gini, equal_var=False)\n",
    "    \n",
    "    print(f'\\nBIAS: {bias:.2f}')\n",
    "    print(f'\\n\\tDegrees of freedom: {df:.2f}')\n",
    "    print(f'\\n\\tTest statistic: {t_test:.2f}')\n",
    "    print(f'\\n\\tCritical value: {t_crit:.2f}')\n",
    "    print(f'\\n\\tP-value.......: {pval:.2e}')\n",
    "    result = 'H0 REJECTED.' if pval < alpha/2. else 'Failed to reject H0.'\n",
    "    print(f'\\n\\tResult........: {result}')\n",
    "    rejection[bias] = pval < alpha/2.\n"
   ]
  },
  {
   "cell_type": "code",
   "execution_count": 10,
   "metadata": {},
   "outputs": [],
   "source": [
    "filtered_biases = [bias for bias, rej in rejection.items() if not rej]"
   ]
  },
  {
   "cell_type": "code",
   "execution_count": 11,
   "metadata": {},
   "outputs": [],
   "source": [
    "costs = {bias: fastdtw(actual_gini, results[bias])[0] for bias in filtered_biases}"
   ]
  },
  {
   "cell_type": "code",
   "execution_count": 12,
   "metadata": {},
   "outputs": [
    {
     "data": {
      "image/png": "[encoded data removed]",
      "text/plain": [
       "<Figure size 432x288 with 1 Axes>"
      ]
     },
     "metadata": {},
     "output_type": "display_data"
    }
   ],
   "source": [
    "fig, ax = plt.subplots()\n",
    "\n",
    "ax.plot(list(costs.keys()), list(costs.values()), marker='.')\n",
    "\n",
    "ax.set_xlabel('Bias')\n",
    "ax.set_ylabel('Cost')\n",
    "ax.set_xticks(list(costs.keys()))\n",
    "plt.show()"
   ]
  },
  {
   "cell_type": "markdown",
   "metadata": {},
   "source": [
    "DTW: [Dynamic Time Warping](https://en.wikipedia.org/wiki/Dynamic_time_warping)\n",
    "\n",
    "- `fastdtw` [doc](https://pypi.org/project/fastdtw/)."
   ]
  },
  {
   "cell_type": "code",
   "execution_count": 13,
   "metadata": {},
   "outputs": [],
   "source": [
    "selected_bias = min(costs, key=costs.get)"
   ]
  },
  {
   "cell_type": "code",
   "execution_count": 33,
   "metadata": {},
   "outputs": [],
   "source": [
    "length = len(results[selected_bias])\n",
    "selected_ginis = results[selected_bias]\n",
    "padded_actual = np.pad(actual_gini, pad_width=(length - len(actual_gini))//2,\n",
    "                       mode='constant', constant_values=(np.nan,))"
   ]
  },
  {
   "cell_type": "code",
   "execution_count": 34,
   "metadata": {},
   "outputs": [
    {
     "data": {
      "text/plain": [
       "50"
      ]
     },
     "execution_count": 34,
     "metadata": {},
     "output_type": "execute_result"
    }
   ],
   "source": [
    "len(padded_actual)"
   ]
  },
  {
   "cell_type": "code",
   "execution_count": 37,
   "metadata": {},
   "outputs": [
    {
     "data": {
      "image/png": "[encoded data removed]",
      "text/plain": [
       "<Figure size 432x288 with 1 Axes>"
      ]
     },
     "metadata": {},
     "output_type": "display_data"
    }
   ],
   "source": [
    "fig, ax = plt.subplots()\n",
    "\n",
    "ax.plot(range(length), selected_ginis)\n",
    "ax.plot(range(length), padded_actual)\n",
    "\n",
    "ax.set_ylim([0.0, 1.0])\n",
    "\n",
    "plt.show()"
   ]
  }
 ],
 "metadata": {
  "kernelspec": {
   "display_name": "Python 3",
   "language": "python",
   "name": "python3"
  },
  "language_info": {
   "codemirror_mode": {
    "name": "ipython",
    "version": 3
   },
   "file_extension": ".py",
   "mimetype": "text/x-python",
   "name": "python",
   "nbconvert_exporter": "python",
   "pygments_lexer": "ipython3",
   "version": "3.7.7"
  }
 },
 "nbformat": 4,
 "nbformat_minor": 4
}
